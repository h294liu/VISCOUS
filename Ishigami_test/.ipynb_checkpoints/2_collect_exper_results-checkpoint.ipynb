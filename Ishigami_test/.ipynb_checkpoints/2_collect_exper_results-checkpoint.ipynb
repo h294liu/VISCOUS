{
 "cells": [
  {
   "cell_type": "code",
   "execution_count": 4,
   "id": "e91a3434-25fb-4db9-aef6-e4123a30fe5f",
   "metadata": {},
   "outputs": [
    {
     "name": "stdout",
     "output_type": "stream",
     "text": [
      "First\n",
      "Total\n",
      "First_residual\n",
      "First_normPDF\n",
      "Total_normPDF\n"
     ]
    }
   ],
   "source": [
    "# Collect the sensitivity results of all the experiments and save them for analysis.\n",
    "\n",
    "import numpy as np\n",
    "import pandas as pd\n",
    "import os\n",
    "\n",
    "# =============================================================================================        \n",
    "\n",
    "startNSample=500\n",
    "endNSample=15000\n",
    "sampleInterval=500\n",
    "\n",
    "startExperId=1 \n",
    "endExperId=50\n",
    "\n",
    "rootPath='/home/h294liu/project/proj/6_viscous/Ishigami_test'  # root path where parameter estimation will be stored.\n",
    "experBasePath = os.path.join(outputBasepath, 'experiments')\n",
    "outputPath = os.path.join(rootPath,'2_collect_exper_results')\n",
    "if not os.path.exists(outputPath):\n",
    "    os.makedirs(outputPath)\n",
    "\n",
    "# =============================================================================================        \n",
    "\n",
    "sampleSizes = list(np.arange(startNSample, endNSample+1, sampleInterval)) # Repeat sensitivity calculatiion using different sample size.\n",
    "expers = range(startExperId, endExperId+1) # Given a sample size, reapeat experiment for 50 times to avoid bias results.\n",
    "\n",
    "nSampleSize = len(sampleSizes) # number of input sample options\n",
    "nExper = len(expers)           # number of experiments\n",
    "nVar = 3                       # number of variables \n",
    "\n",
    "###############################################################\n",
    "sensTypes = ['First','Total','First_residual','First_normPDF','Total_normPDF'] # types of sensitivity index\n",
    "for sensType in sensTypes:\n",
    "    print(sensType)\n",
    "    \n",
    "    # read sensitivity indices\n",
    "    sensIndices = np.zeros((nSampleSize, nExper, nVar)) # include three fields: X1, X2, X3\n",
    "    for iSample in range(nSampleSize):\n",
    "        for iExper in range(nExper):\n",
    "\n",
    "            sampleSize = sampleSizes[iSample]\n",
    "            experId = expers[iExper]        \n",
    "            experPath=os.path.join(experBasePath, 'sample%d_exper%d'%(sampleSize,experId))\n",
    "            sensIndices[iSample,iExper,:] = np.loadtxt(os.path.join(experPath,'s%s.txt'%(sensType)), usecols=[1])\n",
    "\n",
    "    # save sensitivity indices\n",
    "    for iVar in range(nVar):\n",
    "        ofile = os.path.join(outputPath,'s%s_x%d.txt'%(sensType,iVar+1))\n",
    "        f = open(ofile, 'w')\n",
    "\n",
    "        # write headline\n",
    "        f.write('#SampleSize\\t')\n",
    "        for iExper in range(nExper):\n",
    "            f.write('Exper%d\\t'%(iExper+1))\n",
    "        f.write('\\n')\n",
    "\n",
    "        # write sensitivity results\n",
    "        for iSample in range(nSampleSize):        \n",
    "            sampleSize = sampleSizes[iSample]\n",
    "            f.write('%d\\t'%(sampleSize))\n",
    "            for iExper in range(nExper):\n",
    "                f.write('%.4f\\t'%(sensIndices[iSample,iExper,iVar]))\n",
    "            f.write('\\n')\n",
    "        f.close()\n",
    "    #     np.savetxt(ofile, sensIndices[:,:,iVar], delimiter=',', fmt='%.4f', header='# shape (nSampleSize, nExper)')\n"
   ]
  }
 ],
 "metadata": {
  "kernelspec": {
   "display_name": "hl-env",
   "language": "python",
   "name": "hl-env"
  },
  "language_info": {
   "codemirror_mode": {
    "name": "ipython",
    "version": 3
   },
   "file_extension": ".py",
   "mimetype": "text/x-python",
   "name": "python",
   "nbconvert_exporter": "python",
   "pygments_lexer": "ipython3",
   "version": "3.8.10"
  }
 },
 "nbformat": 4,
 "nbformat_minor": 5
}
